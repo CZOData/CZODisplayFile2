{
 "worksheets": [
  {
   "cells": [
    {
     "cell_type": "code",
     "metadata": {},
     "outputs": [
      {
       "output_type": "stream",
       "stream": "stdout",
       "text": [
        "{'doc': {'CITATION': 'Well Water Level data collected by Stroud Water Research Center', 'TITLE': 'Christina Watershed Well Water Levels', 'ABSTRACT': 'Well Water Levels', 'INVESTIGATOR': 'Denis Newbold, Stroud Water Research Center, 970 Spencer Road, Avondale, PA 19311, newbold@stroudcenter.org', 'COMMENTS': '', 'PUBLICATIONS': '', 'KEYWORDS': ['well', 'groundwater', 'white clay creek', 'stroud water research center', 'christina river'], 'DEFAULT_PARAMETER': {'TimeSupportUnits': 'hr', 'DataLevel': 1, 'SampleMedium': 'Not Relevant', 'ValueType': 'Derived Value', 'CensorCode': 'nc', 'SampleType': 'No Sample', 'NoDataValue': -9999, 'UTCOffset': -5, 'TimeZone': 'EST', 'DataBeginsOnRow': 3, 'TimeSupport': 0}, 'VARIABLES': 'Water Level'}, 'data': [['WELL003', '20110117 14:17', 101.4, -9999], ['WELL003', '20110128 16:51', 101.43, -9999], ['WELL003', '20110128 17:24', -9999, 101.43], ['WELL003', '20110128 17:30', -9999, 101.43], ['WELL003', '20110128 17:45', -9999, 101.43], ['WELL003', '20110128 18:00', -9999, 101.43], ['WELL003', '20110128 18:15', -9999, 101.43], ['WELL003', '20110128 18:30', -9999, 101.43], ['WELL003', '20110128 18:45', -9999, 101.43], ['WELL003', '20110128 19:00', -9999, 101.43], ['WELL003', '20110128 19:15', -9999, 101.43], ['WELL003', '20110128 19:30', -9999, 101.43], ['WELL003', '20110128 19:45', -9999, 101.43], ['WELL003', '20110128 20:00', -9999, 101.43], ['WELL003', '20110128 20:15', -9999, 101.43], ['WELL003', '20110128 20:30', -9999, 101.43], ['WELL003', '20110128 20:45', -9999, 101.43], ['WELL003', '20110128 21:00', -9999, 101.43], ['WELL003', '20110128 21:15', -9999, 101.43], []], 'header': {'COL4': {'units': 'm', 'datatype': 'Continuous', 'method': 'auto_waterlevel', 'value': 'Water level', 'label': 'VariableName'}, 'COL2': {'label': 'ValueAttribute', 'value': 'dateTime', 'format': 'yyyyMMdd H:mm'}, 'COL3': {'units': 'm', 'datatype': 'Sporadic', 'method': 'manual_waterlevel', 'value': 'Water level', 'label': 'VariableName'}, 'COL1': {'value': 'SiteCode', 'label': 'ValueAttribute'}}}\n"
       ]
      }
     ],
     "input": [
      "import yaml\n",
      "stream = file(\"czo_yaml/CRB_WELL_WATERLEVEL_2011_CZODisplay1.yml\")\n",
      "czowl = yaml.load (stream)\n",
      "print czowl"
     ],
     "language": "python",
     "prompt_number": 7
    },
    {
     "cell_type": "code",
     "metadata": {},
     "outputs": [
      {
       "output_type": "pyout",
       "prompt_number": 8,
       "text": [
        "\"data:\\n- [WELL003, '20110117 14:17', 101.4, -9999]\\n- [WELL003, '20110128 16:51', 101.43, -9999]\\n- [WELL003, '20110128 17:24', -9999, 101.43]\\n- [WELL003, '20110128 17:30', -9999, 101.43]\\n- [WELL003, '20110128 17:45', -9999, 101.43]\\n- [WELL003, '20110128 18:00', -9999, 101.43]\\n- [WELL003, '20110128 18:15', -9999, 101.43]\\n- [WELL003, '20110128 18:30', -9999, 101.43]\\n- [WELL003, '20110128 18:45', -9999, 101.43]\\n- [WELL003, '20110128 19:00', -9999, 101.43]\\n- [WELL003, '20110128 19:15', -9999, 101.43]\\n- [WELL003, '20110128 19:30', -9999, 101.43]\\n- [WELL003, '20110128 19:45', -9999, 101.43]\\n- [WELL003, '20110128 20:00', -9999, 101.43]\\n- [WELL003, '20110128 20:15', -9999, 101.43]\\n- [WELL003, '20110128 20:30', -9999, 101.43]\\n- [WELL003, '20110128 20:45', -9999, 101.43]\\n- [WELL003, '20110128 21:00', -9999, 101.43]\\n- [WELL003, '20110128 21:15', -9999, 101.43]\\n- []\\ndoc:\\n  ABSTRACT: Well Water Levels\\n  CITATION: Well Water Level data collected by Stroud Water Research Center\\n  COMMENTS: ''\\n  DEFAULT_PARAMETER: {CensorCode: nc, DataBeginsOnRow: 3, DataLevel: 1, NoDataValue: -9999,\\n    SampleMedium: Not Relevant, SampleType: No Sample, TimeSupport: 0, TimeSupportUnits: hr,\\n    TimeZone: EST, UTCOffset: -5, ValueType: Derived Value}\\n  INVESTIGATOR: Denis Newbold, Stroud Water Research Center, 970 Spencer Road, Avondale,\\n    PA 19311, newbold@stroudcenter.org\\n  KEYWORDS: [well, groundwater, white clay creek, stroud water research center, christina\\n      river]\\n  PUBLICATIONS: ''\\n  TITLE: Christina Watershed Well Water Levels\\n  VARIABLES: Water Level\\nheader:\\n  COL1: {label: ValueAttribute, value: SiteCode}\\n  COL2: {format: 'yyyyMMdd H:mm', label: ValueAttribute, value: dateTime}\\n  COL3: {datatype: Sporadic, label: VariableName, method: manual_waterlevel, units: m,\\n    value: Water level}\\n  COL4: {datatype: Continuous, label: VariableName, method: auto_waterlevel, units: m,\\n    value: Water level}\\n\""
       ],
       "metadata": {}
      }
     ],
     "input": [
      "yaml.dump(czowl)"
     ],
     "language": "python",
     "prompt_number": 8
    },
    {
     "cell_type": "code",
     "metadata": {},
     "outputs": [],
     "input": [
      "import genson\n",
      "s = genson.Schema()\n",
      "s.add_object(czowl)\n",
      "s.to_json()"
     ],
     "language": "python"
    },
    {
     "cell_type": "code",
     "metadata": {},
     "outputs": [],
     "input": [
      ""
     ],
     "language": "python"
    }
   ]
  }
 ],
 "cells": [],
 "metadata": {
  "name": "Untitled0"
 },
 "nbformat": 3,
 "nbformat_minor": 0
}